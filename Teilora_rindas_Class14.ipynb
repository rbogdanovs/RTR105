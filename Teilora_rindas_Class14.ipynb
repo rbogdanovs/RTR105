{
 "cells": [
  {
   "cell_type": "markdown",
   "metadata": {},
   "source": [
    "Rēķinot citas izteiksmes mainās:\n",
    "\n",
    "*Pie (def) rindkopas mainās tikai - (a)\n",
    "\n",
    "*Pie (while) rindkopas mainās tikai - (R - Rekurences reizinātājs)"
   ]
  },
  {
   "cell_type": "markdown",
   "metadata": {},
   "source": [
    "Dotā funkcija: y = exp(-x*x)"
   ]
  },
  {
   "cell_type": "markdown",
   "metadata": {},
   "source": [
    "No bibliotēkas (math) importē mums nepieciešamo (exp) funkciju:\n",
    "\n",
    "Argumentam x ir piešķirta vērtība 0.56 un y definē kā exp(-x*x), izmantojot importēto (exp) funkciju un iegūstam funkcijas vērtību y(x):\n",
    "\n",
    "Definēju savu funkciju un piešķiru vērtības argumentiem k (summas locekļu skaits),\n",
    "\n",
    "a (attiecīgā soļa loceklis), S (summēšanā iegūtā vērtība), un, \n",
    "\n",
    "izprintēju 0-to funkcijas summēšanas locekli yy piešķiru mans_exp(x) vērtību.\n",
    "\n",
    "Izveidoju ciklu, kurā tiek izmantoti 500 summas locekļi un attiecīgās f-jas aprēķinātais rekurences reizinātājs \n",
    "R = (-1*x**2/k), lai aprēķinātu f-jas vērtību. "
   ]
  },
  {
   "cell_type": "code",
   "execution_count": 2,
   "metadata": {},
   "outputs": [
    {
     "name": "stdout",
     "output_type": "stream",
     "text": [
      "exp(-x*x) aprekinasana: \n",
      "Lietotāj, lūdzu ievadi skaitli argumentu (x): 0.56\n",
      "exp(-x*x) (0.56) =   0.73\n",
      "a0 =   1.00 S0 =   1.00\n",
      "a499 =  -0.00 S499 =   0.73\n",
      "a500 =   0.00 S500 =   0.73\n",
      "exp(-x*x) (0.56) caur summu:   0.73\n",
      " \n",
      "                500                               \n",
      "               ______                             \n",
      "               \\               k      2*k         \n",
      "                \\          (-1)   * x             \n",
      "     exp(-x*x) = >        _________________       ..., kur -∞ < x < +∞  \n",
      "                /                                 \n",
      "               /_____           k!                \n",
      "                 k=0                              \n",
      "                                                  \n",
      "                                                  \n",
      "                                             2    \n",
      "                                    (-1) * x      \n",
      "     Rekurences reizinatajs:      ______________  \n",
      "                                                  \n",
      "                                         k        \n"
     ]
    }
   ],
   "source": [
    "#_*_ coding: utf-8 -*-\n",
    "from math import exp\n",
    "\n",
    "def mans_exp(x):\n",
    "    k = 0\n",
    "    a = (-1)**k*x**(2*k)/(1)\n",
    "    S = a\n",
    "    print(\"a0 = %6.2f S0 = %6.2f\"%(a,S))\n",
    "\n",
    "    while k < 500:\n",
    "        k = k + 1\n",
    "        R = -1*x**2/k\n",
    "        a = a * R\n",
    "        S = S + a\n",
    "        if  k == 499:\n",
    "            print(\"a%d = %6.2f S%d = %6.2f\"%(k,a,k,S))\n",
    "        elif k == 500:\n",
    "            print(\"a%d = %6.2f S%d = %6.2f\"%(k,a,k,S))\n",
    "    \n",
    "    \n",
    "    return S\n",
    "\n",
    "print(\"exp(-x*x) aprekinasana: \")\n",
    "x = float(input(\"Lietotāj, lūdzu ievadi skaitli argumentu (x): \"))\n",
    "y = exp(-x*x)\n",
    "print(\"exp(-x*x) (%.2f) = %6.2f\"%(x,y))\n",
    "\n",
    "yy = mans_exp(x)\n",
    "print(\"exp(-x*x) (%.2f) caur summu: %6.2f\"%(x,yy))\n",
    "                                                           \n",
    "\n",
    "print(\" \")\n",
    "print(\"                500                               \")\n",
    "print(\"               ______                             \")\n",
    "print(\"               \\               k      2*k         \")\n",
    "print(\"                \\          (-1)   * x             \")\n",
    "print(\"     exp(-x*x) = >        _________________       ..., kur -\\u221E < x < +\\u221E  \")\n",
    "print(\"                /                                 \")\n",
    "print(\"               /_____           k!                \")\n",
    "print(\"                 k=0                              \")\n",
    "print(\"                                                  \")\n",
    "print(\"                                                  \")\n",
    "print(\"                                             2    \")\n",
    "print(\"                                    (-1) * x      \")\n",
    "print(\"     Rekurences reizinatajs:      ______________  \")\n",
    "print(\"                                                  \")\n",
    "print(\"                                         k        \")"
   ]
  },
  {
   "cell_type": "markdown",
   "metadata": {},
   "source": [
    "Pēc summēšanas cikla izpildes 500-tais summēšanas loceklis ir 0.73, kas attiecīgi ir arī mans_exp(x) iegūtā vērtība, to arī izprintēju.\n",
    "\n",
    "Pēc dotajiem norādījumiem izvadu arī summas izteiksmi un rekurences funkcionālā reizinātāja izteiksmi, izmantojot ASCII simbolus."
   ]
  }
 ],
 "metadata": {
  "kernelspec": {
   "display_name": "Python 3",
   "language": "python",
   "name": "python3"
  },
  "language_info": {
   "codemirror_mode": {
    "name": "ipython",
    "version": 3
   },
   "file_extension": ".py",
   "mimetype": "text/x-python",
   "name": "python",
   "nbconvert_exporter": "python",
   "pygments_lexer": "ipython3",
   "version": "3.5.2"
  }
 },
 "nbformat": 4,
 "nbformat_minor": 2
}
