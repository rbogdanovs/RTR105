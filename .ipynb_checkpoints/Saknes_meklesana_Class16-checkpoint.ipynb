{
 "cells": [
  {
   "cell_type": "markdown",
   "metadata": {},
   "source": [
    "# Saknes meklēšana Class16"
   ]
  },
  {
   "cell_type": "markdown",
   "metadata": {},
   "source": [
    "Dotā funkcija: y = exp(-x*x)\n",
    "\n",
    "No bibliotēkas (math) importēju mums nepieciešamās funkcijas (exp) un (fabs). \n",
    "\n",
    "No (matplotlib) importēju (pyplot) zīmēšanai.\n",
    "\n",
    "No (numpy) importēju (linspace)."
   ]
  },
  {
   "cell_type": "markdown",
   "metadata": {},
   "source": [
    "Definēju x argumenta robežas."
   ]
  },
  {
   "cell_type": "markdown",
   "metadata": {},
   "source": [
    "Meklēju vai dotajā intervālā ir saknes, un definēju precizitāti, ar kādu meklēs sakni."
   ]
  },
  {
   "cell_type": "markdown",
   "metadata": {},
   "source": [
    "Sašaurinu saknes meklēšanas robežas tik ilgi, līdz sakne ar atbilstošu precizitāti ir atrasta un izprintējam to."
   ]
  },
  {
   "cell_type": "code",
   "execution_count": 3,
   "metadata": {},
   "outputs": [
    {
     "name": "stdout",
     "output_type": "stream",
     "text": [
      "Dotajā intervālā [4, 10] sakņu nav\n",
      "exp(-x*x) sakne ir: 9.999908447265625\n",
      "f(x) = 3.726893847407502e-44\n",
      "k = 16\n"
     ]
    }
   ],
   "source": [
    "# -*- coding: utf-8 -*-  \n",
    "from math import exp, fabs  \n",
    "from time import sleep  \n",
    "  \n",
    "def f(x):  \n",
    "    return exp(-x*x)  \n",
    "k = 0    \n",
    "a = 4  \n",
    "b = 10  \n",
    "  \n",
    "funa = f(a)  \n",
    "funb = f(b)  \n",
    "  \n",
    "if ( funa * funb > 0.0):  \n",
    "    print(\"Dotajā intervālā [%s, %s] sakņu nav\"%(a,b))  \n",
    "    sleep(1); exit()\n",
    "else:  \n",
    "    print(\"Dotajā intervālā sakne(s) ir!\")  \n",
    "  \n",
    "deltax = 0.0001  \n",
    "  \n",
    "while ( fabs(b-a) > deltax ):  \n",
    "    k = k+1  \n",
    "    x = (a+b)/2; funx = f(x)  \n",
    "    if ( funa*funx < 0. ):  \n",
    "        b = x  \n",
    "    else:  \n",
    "        a = x  \n",
    "  \n",
    "print (\"exp(-x*x) sakne ir:\", x)  \n",
    "print (\"f(x) =\", exp(-x*x))  \n",
    "print (\"k =\", k)"
   ]
  },
  {
   "cell_type": "code",
   "execution_count": null,
   "metadata": {},
   "outputs": [],
   "source": [
    "k = 16...Tik reizes vajadzēja dalīt uz pusēm."
   ]
  }
 ],
 "metadata": {
  "kernelspec": {
   "display_name": "Python 3",
   "language": "python",
   "name": "python3"
  },
  "language_info": {
   "codemirror_mode": {
    "name": "ipython",
    "version": 3
   },
   "file_extension": ".py",
   "mimetype": "text/x-python",
   "name": "python",
   "nbconvert_exporter": "python",
   "pygments_lexer": "ipython3",
   "version": "3.5.2"
  }
 },
 "nbformat": 4,
 "nbformat_minor": 2
}
