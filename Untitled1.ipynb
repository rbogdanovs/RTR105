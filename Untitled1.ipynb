{
 "cells": [
  {
   "cell_type": "markdown",
   "metadata": {},
   "source": [
    "# Zīmēšana (Class 15)"
   ]
  },
  {
   "cell_type": "markdown",
   "metadata": {},
   "source": [
    "Dotā funkcija: y = exp(-x*x)"
   ]
  },
  {
   "cell_type": "markdown",
   "metadata": {},
   "source": [
    "No numpy bibliotēkas importē mums nepieciešamo exp un linspace funkcijas.\n",
    "No matplotlib importē pyplot zīmēšanai.\n",
    "x asij ar linspace piešķir masīvu ar 10 punktiem, ar vērtībām 0;4."
   ]
  },
  {
   "cell_type": "code",
   "execution_count": 1,
   "metadata": {},
   "outputs": [],
   "source": [
    "import sys\n",
    "sys.path.append(\"/usr/lib/python2.7/dist-packages/numpy/\")\n",
    "sys.path.append(\"/usr/lib/python2.7/dist-packages/matplotlib/\")\n",
    "from numpy import exp, linspace\n",
    "from matplotlib import pyplot as plt\n",
    "x = linspace(0, 4, 10) "
   ]
  },
  {
   "cell_type": "markdown",
   "metadata": {},
   "source": [
    "y argumentu definē kā doto funkciju un pēc tam tālāk y2, y3, y4 un y5 definē kā funkcijas izvirzījumu."
   ]
  },
  {
   "cell_type": "code",
   "execution_count": 2,
   "metadata": {},
   "outputs": [],
   "source": [
    "x = linspace(0, 4, 10) \n",
    "y = exp(-x*x)\n",
    "y2 = 1-(x*x)\n",
    "y3 = 1*(-x*x) + ((x**4)/2)\n",
    "y4 = y3 + ((x**4)/2) - ((x**6)/2)\n",
    "y5 = y4 + (-(x**6)/6) + ((x**8)/3)"
   ]
  },
  {
   "cell_type": "markdown",
   "metadata": {},
   "source": [
    "Ar (grid) piešķir zīmējumam gradējumu, \n",
    "\n",
    "(xlabel) nosaucam par x un (ylabel) par f(x), \n",
    "kā arī dodu grafikam nosaukumu (title) \"Funkcija exp(-x*x)\" \n",
    "\n",
    "Ar (plot) zīmē grafikus un (show) tos attēlo."
   ]
  },
  {
   "cell_type": "code",
   "execution_count": 3,
   "metadata": {},
   "outputs": [
    {
     "data": {
      "image/png": "[encoded data removed]",
      "text/plain": [
       "<Figure size 432x288 with 1 Axes>"
      ]
     },
     "metadata": {
      "needs_background": "light"
     },
     "output_type": "display_data"
    }
   ],
   "source": [
    "plt.grid()\n",
    "plt.xlabel(\"x\")\n",
    "plt.ylabel(\"f(x)\")\n",
    "plt.title(\"Funkcija $exp(-x*x)$\")\n",
    "plt.plot(x, y)\n",
    "plt.plot(x,y2)\n",
    "plt.plot(x,y3)\n",
    "plt.plot(x,y4)\n",
    "plt.plot(x,y5)                  \n",
    "plt.show()"
   ]
  },
  {
   "cell_type": "code",
   "execution_count": null,
   "metadata": {},
   "outputs": [],
   "source": []
  },
  {
   "cell_type": "code",
   "execution_count": null,
   "metadata": {},
   "outputs": [],
   "source": [
    "Te ir attēlots divos sakārtojumos, un izmaiņas ir x = linspace(0, 2, 10)"
   ]
  },
  {
   "cell_type": "code",
   "execution_count": null,
   "metadata": {},
   "outputs": [],
   "source": [
    "import sys\n",
    "sys.path.append(\"/usr/lib/python2.7/dist-packages/numpy/\")\n",
    "sys.path.append(\"/usr/lib/python2.7/dist-packages/matplotlib/\")\n",
    "\n",
    "from numpy import exp, linspace\n",
    "x = linspace(0, 2, 10) \n",
    "y = exp(-x*x)\n",
    "y2 = 1-(x*x)\n",
    "y3 = 1*(-x*x) + ((x**4)/2)\n",
    "y4 = y3 + ((x**4)/2) - ((x**6)/2)\n",
    "y5 = y4 + (-(x**6)/6) + ((x**8)/3)\n",
    "\n",
    "from matplotlib import pyplot as plt\n",
    "plt.grid()\n",
    "plt.xlabel(\"x\")\n",
    "plt.ylabel(\"f(x)\")\n",
    "plt.title(\"Funkcija $exp(-x*x)$\")\n",
    "plt.plot(x, y)\n",
    "plt.plot(x,y2)\n",
    "plt.plot(x,y3)\n",
    "plt.plot(x,y4)\n",
    "plt.plot(x,y5)                  \n",
    "plt.show()"
   ]
  },
  {
   "cell_type": "code",
   "execution_count": null,
   "metadata": {},
   "outputs": [],
   "source": []
  }
 ],
 "metadata": {
  "kernelspec": {
   "display_name": "Python 3",
   "language": "python",
   "name": "python3"
  },
  "language_info": {
   "codemirror_mode": {
    "name": "ipython",
    "version": 3
   },
   "file_extension": ".py",
   "mimetype": "text/x-python",
   "name": "python",
   "nbconvert_exporter": "python",
   "pygments_lexer": "ipython3",
   "version": "3.5.2"
  }
 },
 "nbformat": 4,
 "nbformat_minor": 2
}
